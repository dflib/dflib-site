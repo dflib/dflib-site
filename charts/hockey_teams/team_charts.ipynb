{
 "cells": [
  {
   "cell_type": "code",
   "execution_count": null,
   "id": "b778fec1-ac4e-409f-91ea-648f4ac588ab",
   "metadata": {},
   "outputs": [],
   "source": [
    "%maven org.dflib:dflib-jupyter:2.0.0-SNAPSHOT"
   ]
  },
  {
   "cell_type": "markdown",
   "id": "15ed8cee-d103-4d70-83ed-0ee8a8ab3b13",
   "metadata": {},
   "source": [
    "## Streaks"
   ]
  },
  {
   "cell_type": "code",
   "execution_count": null,
   "id": "5fe48d61-7ea0-49be-b7ed-932c68ad2a03",
   "metadata": {},
   "outputs": [],
   "source": [
    "var games = Parquet.loader()\n",
    "    .cols(\"abbrev\", \"game_date\", \"game_id\", \"decision\")\n",
    "    .load(\"_data/team_game.parquet\");\n",
    "\n",
    "games"
   ]
  },
  {
   "cell_type": "code",
   "execution_count": null,
   "id": "8853a389-5036-4916-854a-da6dc297fb4e",
   "metadata": {},
   "outputs": [],
   "source": [
    "var streaks1 = games\n",
    "    .cols(\"streak_points\", \"up_or_down\")\n",
    "        .merge(\n",
    "            ifExp($str(\"decision\").eq(\"W\"), $val(2), ifExp($str(\"decision\").eq(\"O\"), $val(1), $val(0))),\n",
    "            ifExp($str(\"decision\").in(\"W\", \"O\"), $val(true), $val(false))\n",
    "        )\n",
    "    // sorting is super important for streaks\n",
    "    .sort($col(\"abbrev\").asc(), $col(\"game_date\").asc());\n",
    "\n",
    "streaks1"
   ]
  },
  {
   "cell_type": "code",
   "execution_count": null,
   "id": "54c7ea06-e793-463b-a26a-127136763ea2",
   "metadata": {},
   "outputs": [],
   "source": [
    "var streaks2 = streaks1\n",
    "    .cols(\"streak_id\").merge($bool(\"up_or_down\").ne( $bool(\"up_or_down\").shift(1)).cumSum())\n",
    "    .colsExcept(\"up_or_down\").select()\n",
    "    .group(\"abbrev\", \"streak_id\").cols(\"streak\").merge($int(\"streak_points\").cumSum());\n",
    "\n",
    "streaks2"
   ]
  },
  {
   "cell_type": "code",
   "execution_count": null,
   "id": "fc1f8c96-8c61-47d0-8bec-eaaa1eb1468a",
   "metadata": {},
   "outputs": [],
   "source": [
    "var streaks3 = streaks2\n",
    "    .pivot().cols(\"abbrev\").rows(\"game_date\").vals(\"streak\")\n",
    "    .sort($col(\"game_date\").asc());\n",
    "\n",
    "streaks3"
   ]
  },
  {
   "cell_type": "code",
   "execution_count": null,
   "id": "1012d4e0-0c4f-4460-86a8-6d5dfd5998d4",
   "metadata": {},
   "outputs": [],
   "source": [
    "var timeSpan = streaks3\n",
    "    .cols(\"start_date\", \"end_date\").agg($date(\"game_date\").min(), $date(\"game_date\").max())\n",
    "    .cols(\"days\").merge($date(0).mapVal($date(1), (d1, d2) -> java.time.temporal.ChronoUnit.DAYS.between(d1, d2)));\n",
    "\n",
    "LocalDate from = (LocalDate) timeSpan.get(0, 0);\n",
    "Series<LocalDate> daysSeq = new org.dflib.series.IntSequenceSeries(0, ((Long) timeSpan.get(2, 0)).intValue())\n",
    "    .map(from::plusDays);\n",
    "\n",
    "var date = DataFrame.byColumn(\"date\").of(daysSeq);\n",
    "date"
   ]
  },
  {
   "cell_type": "code",
   "execution_count": null,
   "id": "83890985-77ee-4dbd-afb1-eb056323955f",
   "metadata": {},
   "outputs": [],
   "source": [
    "var streaks4 = date\n",
    "    .leftJoin(streaks3).on(\"date\", \"game_date\").colsExcept(\"game_date\").select()\n",
    "    .cols().fillNullsForward();\n",
    "\n",
    "streaks4"
   ]
  },
  {
   "cell_type": "code",
   "execution_count": null,
   "id": "a060c4a3-df87-4810-baad-5b614795822c",
   "metadata": {},
   "outputs": [],
   "source": [
    "Series<String> teams = streaks4.getColumnsIndex().toSeries().head(-1);\n",
    "Series<String> unselectedTeams = teams.select(not($col(0).in(\"NYR\", \"PIT\")));\n",
    "\n",
    "var p1 = ECharts.chart()\n",
    "    .legend(Legend.ofPlain().vertical().leftRight().topPct(10).unselected(unselectedTeams.toArray(new String[0])))\n",
    "    .grid(Grid.of().leftLeft().rightPct(25))\n",
    "    .renderAsSvg()\n",
    "    .tooltip(Tooltip.ofAxis())\n",
    "    .toolbox(Toolbox.of().featureSaveAsImage().featureDataZoom().featureRestore())\n",
    "    \n",
    "    .sizePx(1000, 400)\n",
    "    .xAxis(\"date\", XAxis.ofTime())\n",
    "    .series(SeriesOpts.ofLine().areaStyle().showSymbol(false), teams.toArray(new String[0]))\n",
    "    .plot(streaks4);\n",
    "\n",
    "p1"
   ]
  },
  {
   "cell_type": "code",
   "execution_count": null,
   "id": "e5812056-0b92-4143-937c-ca0b1c20cdf3",
   "metadata": {},
   "outputs": [],
   "source": [
    "var outcomes = games.group(\"abbrev\", \"decision\")\n",
    "    .agg(\n",
    "        $col(\"abbrev\"),\n",
    "        $col(\"decision\"),\n",
    "        count());\n",
    "\n",
    "outcomes"
   ]
  },
  {
   "cell_type": "code",
   "execution_count": null,
   "id": "b98612a3-d4ce-4d62-a707-7f5df09e9c79",
   "metadata": {},
   "outputs": [],
   "source": [
    "var splitOutcomes = outcomes\n",
    "    .cols(\"points\").merge(ifExp($col(\"decision\").eq(\"W\"), $val(2), ifExp($col(\"decision\").eq(\"O\"), $val(1), $val(0))).castAsInt().mul($int(\"count\")))\n",
    "    .sort($int(\"points\").desc())\n",
    "    .pivot().cols(\"abbrev\").rows(\"decision\").vals(\"count\")\n",
    "    .cols(\"order\").merge(ifExp($col(\"decision\").eq(\"W\"), $val(0), ifExp($col(\"decision\").eq(\"O\"), $val(1), $val(2))))\n",
    "    .sort($col(\"order\").asc())\n",
    "\n",
    ";\n",
    "splitOutcomes"
   ]
  },
  {
   "cell_type": "code",
   "execution_count": null,
   "id": "fd2ff666-d24a-4f08-b0a8-b617d9ecd561",
   "metadata": {},
   "outputs": [],
   "source": [
    "var e2 = ECharts.chart()\n",
    "    .renderAsSvg()\n",
    "    .tooltip(Tooltip.ofAxis())\n",
    "    .toolbox(Toolbox.of().featureSaveAsImage().featureDataZoom().featureRestore())\n",
    "    .legend(Legend.ofPlain().unselected(\"O\"))\n",
    "    .sizePx(1000, 400);\n",
    "\n",
    "Series<String> teamsX = splitOutcomes.getColumnsIndex().toSeries().head(-1).tail(-1);\n",
    "\n",
    "int len = teamsX.size();\n",
    "int rowLen = 10;\n",
    "int rows = len / rowLen + (len % rowLen > 0 ? 1 : 0);\n",
    "for(int i = 0; i < len; i++) {\n",
    "    String t = teamsX.get(i);\n",
    "    double h = 8 + 8 * (i % rowLen);\n",
    "    double v =  18 + 20 * (i / rowLen);\n",
    "    e2.series(SeriesOpts.ofPie()\n",
    "              .label(\"decision\", PieLabel.ofCenter().formatter(\"{a}\"))\n",
    "              .itemStyle(PieItemStyle.of().borderType(LineType.solid).borderWidth(1).borderColor(\"black\"))\n",
    "              .radiusPct(16, 9)\n",
    "              .centerPct(h, v)\n",
    "              .name(t), t);\n",
    "}\n",
    "\n",
    "var p2 = e2.plot(splitOutcomes);\n",
    "p2"
   ]
  },
  {
   "cell_type": "code",
   "execution_count": null,
   "id": "3f1b686e-8334-432e-9685-98790c9f1153",
   "metadata": {},
   "outputs": [],
   "source": [
    "var goals = Parquet.loader()\n",
    "    .cols(\"game_id\", \"scoring_team.abbrev\", \"scored_against_team.abbrev\", \"seconds_elapsed_in_game\", \"period\")\n",
    "    .load(\"_data/goals.parquet\")\n",
    "    .cols().as(s -> s.replace(\"team.abbrev\", \"team\"));\n",
    "    \n",
    "goals"
   ]
  },
  {
   "cell_type": "code",
   "execution_count": null,
   "id": "82554908-5a6e-494f-8e2f-3e9625924190",
   "metadata": {},
   "outputs": [],
   "source": [
    "var firstScoredForByGame = goals\n",
    "    .colsExcept(\"scored_against_team\", \"period\").select()\n",
    "    .cols(\"game_mins\").merge($int(\"seconds_elapsed_in_game\").div(60.0))\n",
    "    .sort($col(\"game_id\").asc(), $col(\"game_mins\").asc())\n",
    "    .group(\"game_id\").head(1).cols(\"scoring_team\", \"game_mins\").select();\n",
    "\n",
    "firstScoredForByGame"
   ]
  },
  {
   "cell_type": "code",
   "execution_count": null,
   "id": "ce80cc5e-587c-483e-b030-da52e7250761",
   "metadata": {},
   "outputs": [],
   "source": [
    "var firstScoredFor = firstScoredForByGame.group(\"scoring_team\")\n",
    "    .cols(\"team\", \"min\", \"q1\", \"median\", \"q3\", \"max\")\n",
    "    .agg(\n",
    "        $col(\"scoring_team\"),\n",
    "        $double(\"game_mins\").min().mapVal(n -> Math.round((double) n)),\n",
    "        $double(\"game_mins\").quantile(0.25).mapVal(n -> Math.round((double) n)),\n",
    "        $double(\"game_mins\").quantile(0.5).mapVal(n -> Math.round((double) n)),\n",
    "        $double(\"game_mins\").quantile(0.75).mapVal(n -> Math.round((double) n)),\n",
    "        $double(\"game_mins\").max().mapVal(n -> Math.round((double) n))\n",
    "    )\n",
    "    .sort($col(\"median\").asc());\n",
    "\n",
    "firstScoredFor"
   ]
  },
  {
   "cell_type": "code",
   "execution_count": null,
   "id": "36352c1f-0df5-4798-8aff-d4f4c115f2eb",
   "metadata": {},
   "outputs": [],
   "source": [
    "var p3 = ECharts.chart()\n",
    "    .renderAsSvg()\n",
    "    .toolbox(Toolbox.of().featureSaveAsImage().featureDataZoom().featureRestore())\n",
    "    .tooltip(Tooltip.ofAxis())\n",
    "    .sizePx(1000, 400)\n",
    "    .xAxis(\"team\", XAxis.ofCategory().label(\n",
    "        AxisLabel.of().rotate(90).fontSize(9)\n",
    "    ))\n",
    "    .series(SeriesOpts.ofBoxplot().itemStyle(BoxplotItemStyle.of().color(\"#FF7043\").borderColor(\"#000\").borderWidth(1)),  \"min\", \"q1\", \"median\", \"q3\", \"max\")\n",
    "    .plot(firstScoredFor);\n",
    "\n",
    "p3"
   ]
  },
  {
   "cell_type": "code",
   "execution_count": null,
   "id": "0ffd6209-3359-4df0-b109-41f691f718e1",
   "metadata": {},
   "outputs": [],
   "source": [
    "ECharts.saver()\n",
    "    .htmlTemplate(\"hockey_teams.mustache\")\n",
    "    .save(\"../_charts/hockey_teams.html\", p1, p2, p3)"
   ]
  },
  {
   "cell_type": "code",
   "execution_count": null,
   "id": "ea47acc1-c7b1-424a-8dd8-72d3c8e03f98",
   "metadata": {},
   "outputs": [],
   "source": []
  }
 ],
 "metadata": {
  "kernelspec": {
   "display_name": "Java (jjava)",
   "language": "java",
   "name": "java"
  },
  "language_info": {
   "codemirror_mode": "java",
   "file_extension": ".jshell",
   "mimetype": "text/x-java-source",
   "name": "Java",
   "pygments_lexer": "java",
   "version": "21+35-LTS"
  }
 },
 "nbformat": 4,
 "nbformat_minor": 5
}