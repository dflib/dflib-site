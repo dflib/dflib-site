{
 "cells": [
  {
   "cell_type": "code",
   "execution_count": null,
   "id": "4fc43336-b0c4-4c93-89b9-d890603cfa41",
   "metadata": {},
   "outputs": [],
   "source": [
    "%maven org.dflib:dflib-jupyter:2.0.0-SNAPSHOT"
   ]
  },
  {
   "cell_type": "code",
   "execution_count": null,
   "id": "de18cf81-53f7-441e-97dd-be57dc3ea168",
   "metadata": {},
   "outputs": [],
   "source": [
    "import org.dflib.parquet.*;\n",
    "import org.dflib.echarts.*;"
   ]
  },
  {
   "cell_type": "markdown",
   "id": "3fb01140-9771-41cc-a1ab-4bc9b0cbf80a",
   "metadata": {},
   "source": [
    "## Top Points"
   ]
  },
  {
   "cell_type": "code",
   "execution_count": null,
   "id": "0772b464-1c88-4f26-bccf-e1fe93f30830",
   "metadata": {},
   "outputs": [],
   "source": [
    "var top_ss = Parquet.loader()\n",
    "    .cols(\"season_id\", \"game_type_id\", \"name\", \"points\", \"goals\", \"assists\")\n",
    "    .load(\"_data/skater_season.parquet\")\n",
    "    .rows(and( $int(\"game_type_id\").eq(2) , $int(\"season_id\").eq(20232024) )).colsExcept(\"season_id\", \"game_type_id\").select()\n",
    "    .sort($col(\"points\").desc())\n",
    "    .head(20);\n",
    "\n",
    "top_ss"
   ]
  },
  {
   "cell_type": "code",
   "execution_count": null,
   "id": "ca712eb4-f2c5-4249-9dfb-ac658b75e342",
   "metadata": {},
   "outputs": [],
   "source": [
    "var p1 = ECharts.chart()\n",
    "    .grid(Grid.of().bottomPct(35))\n",
    "    .legend(Legend.ofPlain().unselected(\"assists\"))\n",
    "    .renderAsSvg()\n",
    "    .tooltip(Tooltip.ofAxis())\n",
    "    .toolbox(Toolbox.of().featureSaveAsImage().featureDataZoom().featureRestore())\n",
    "    .sizePx(1000, 400)\n",
    "    .xAxis(\"name\", XAxis.ofCategory().label(\n",
    "        AxisLabel.of().rotate(90).fontSize(9)\n",
    "    ))\n",
    "    .series(SeriesOpts.ofBar().stack().itemStyle(\n",
    "            BarItemStyle.of().opacity(0.5).borderRadius(5)\n",
    "        ), \"goals\", \"assists\")\n",
    "    .series(SeriesOpts.ofLine().showSymbol(false).lineStyle(LineStyle.of().width(1)), \"points\")\n",
    "    .plot(top_ss);\n",
    "\n",
    "p1"
   ]
  },
  {
   "cell_type": "markdown",
   "id": "ffcd941e-4775-4d46-bd05-dcf469e12b4c",
   "metadata": {},
   "source": [
    "## Weight by Year"
   ]
  },
  {
   "cell_type": "code",
   "execution_count": null,
   "id": "9cae8dff-76f5-447c-9c67-3f45768e22e9",
   "metadata": {},
   "outputs": [],
   "source": [
    "var w_skater = Parquet.loader()\n",
    "    .cols(\"season_id\", \"game_type_id\", \"player_id\", \"name\", \"position\", \"weight\")\n",
    "    .load(\"_data/skater_season.parquet\")\n",
    "    .rows(and( $int(\"game_type_id\").eq(2), $int(\"weight\").gt(0) ))\n",
    "          .colsExcept(\"game_type_id\").select()\n",
    "    .group(\"player_id\")\n",
    "        .sort($col(\"season_id\").asc()).head(1)\n",
    "        .cols(\"season_id\", \"name\", \"position\", \"weight\")\n",
    "        .select()\n",
    "    .cols(\"year\", \"position\", \"weight\", \"name\")\n",
    "        .select(\n",
    "            $int(\"season_id\").div(10_000),\n",
    "            $col(\"position\"),\n",
    "            $col(\"weight\"),\n",
    "            $col(\"name\")\n",
    "        );\n",
    "\n",
    "w_skater"
   ]
  },
  {
   "cell_type": "code",
   "execution_count": null,
   "id": "c507ddc5-fd7a-4681-9a84-7cedb21560b6",
   "metadata": {},
   "outputs": [],
   "source": [
    "var w_goalie = Parquet.loader()\n",
    "    .cols(\"season_id\", \"game_type_id\", \"player_id\", \"name\", \"position\", \"weight\")\n",
    "    .load(\"_data/goalie_season.parquet\")\n",
    "    .rows(and( $int(\"game_type_id\").eq(2), $int(\"weight\").gt(0) ))\n",
    "          .colsExcept(\"game_type_id\").select()\n",
    "    .group(\"player_id\")\n",
    "        .sort($col(\"season_id\").asc()).head(1)\n",
    "        .cols(\"season_id\", \"name\", \"position\", \"weight\")\n",
    "        .select()\n",
    "    .cols(\"year\", \"position\", \"weight\", \"name\")\n",
    "        .select(\n",
    "            $int(\"season_id\").div(10_000),\n",
    "            $col(\"position\"),\n",
    "            $col(\"weight\"),\n",
    "            $col(\"name\")\n",
    "        );\n",
    "\n",
    "w_goalie"
   ]
  },
  {
   "cell_type": "code",
   "execution_count": null,
   "id": "fd02dbc1-a8ae-4f41-855c-9c8cd4245f48",
   "metadata": {},
   "outputs": [],
   "source": [
    "var w = w_skater\n",
    "    .vConcat(w_goalie)\n",
    "    .cols(\"Offense\", \"Defense\", \"Goaltenders\")\n",
    "        .merge(\n",
    "            ifExp($col(\"position\").in(\"R\", \"L\", \"C\"), $col(\"weight\"), $val(null)),\n",
    "            ifExp($col(\"position\").eq(\"D\"), $col(\"weight\"), $val(null)),\n",
    "            ifExp($col(\"position\").eq(\"G\"), $col(\"weight\"), $val(null))\n",
    "        )\n",
    "    .sort($col(\"year\").asc(), $col(\"position\").asc(), $col(\"name\").asc());\n",
    "\n",
    "w"
   ]
  },
  {
   "cell_type": "code",
   "execution_count": null,
   "id": "2bbc44fc-3811-4b58-9bf7-6698b4280770",
   "metadata": {},
   "outputs": [],
   "source": [
    "java.util.function.Function<String, ScatterSeriesOpts> seriesMaker = color -> \n",
    "    SeriesOpts.ofScatter().symbolSize(6).itemStyle(ScatterItemStyle.of().color(color));\n",
    "\n",
    "var p2 = ECharts.chart()\n",
    "    .legend()\n",
    "    .renderAsSvg()\n",
    "    .tooltip(Tooltip.ofItem())\n",
    "    .toolbox(Toolbox.of().featureSaveAsImage().featureDataZoom().featureRestore())\n",
    "    .sizePx(1000, 400)\n",
    "    .xAxis(\"year\")\n",
    "    .series(seriesMaker.apply(\"black\"), \"Offense\")\n",
    "    .series(seriesMaker.apply(\"teal\"), \"Defense\")\n",
    "    .series(seriesMaker.apply(\"yellow\"), \"Goaltenders\")\n",
    "    .plot(w);\n",
    "\n",
    "p2"
   ]
  },
  {
   "cell_type": "code",
   "execution_count": null,
   "id": "00f0d818-ddd1-4990-98d0-3203fa855904",
   "metadata": {},
   "outputs": [],
   "source": [
    "ECharts.saver()\n",
    "    .createMissingDirs()\n",
    "    .htmlTemplate(\"hockey_players.mustache\")\n",
    "    .save(\"../_out/hockey_players.html\", p1, p2) "
   ]
  },
  {
   "cell_type": "code",
   "execution_count": null,
   "id": "55693cb5-4118-4292-8769-c478b4e971f9",
   "metadata": {},
   "outputs": [],
   "source": [
    "ECharts.saver()\n",
    "    .createMissingDirs()\n",
    "    .htmlTemplate(\"hockey_players_site.mustache\")\n",
    "    .save(\"../_out/_site/hockey_players.html\", p1, p2) "
   ]
  },
  {
   "cell_type": "code",
   "execution_count": null,
   "id": "cdc16b60-9311-47c2-8f5b-d2a96c6e23b8",
   "metadata": {},
   "outputs": [],
   "source": []
  }
 ],
 "metadata": {
  "kernelspec": {
   "display_name": "Java (jjava)",
   "language": "java",
   "name": "java"
  },
  "language_info": {
   "codemirror_mode": "java",
   "file_extension": ".jshell",
   "mimetype": "text/x-java-source",
   "name": "Java",
   "pygments_lexer": "java",
   "version": "21+35-LTS"
  }
 },
 "nbformat": 4,
 "nbformat_minor": 5
}